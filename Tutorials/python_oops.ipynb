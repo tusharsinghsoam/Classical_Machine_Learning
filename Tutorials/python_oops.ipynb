{
 "cells": [
  {
   "cell_type": "markdown",
   "id": "82d1eed3",
   "metadata": {},
   "source": [
    "# Classes and OOP"
   ]
  },
  {
   "cell_type": "markdown",
   "id": "e68d6c6f",
   "metadata": {},
   "source": [
    "# 1. Classes"
   ]
  },
  {
   "cell_type": "code",
   "execution_count": 15,
   "id": "b3a8fcc9",
   "metadata": {},
   "outputs": [
    {
     "name": "stdout",
     "output_type": "stream",
     "text": [
      "test\n",
      "test.soam@gmail.com\n",
      "test soam\n",
      "Delete Name: \n"
     ]
    }
   ],
   "source": [
    "class Employee:\n",
    "    raise_amount = 1.04\n",
    "\n",
    "    def __init__(self, first, last):\n",
    "        self.first = first\n",
    "        self.last = last\n",
    "\n",
    "    @property\n",
    "    def email(self):\n",
    "        return f\"{self.first}.{self.last}@gmail.com\"\n",
    "    \n",
    "    @property\n",
    "    def full_name(self):\n",
    "        return f\"{self.first} {self.last}\"\n",
    "    \n",
    "    @full_name.setter\n",
    "    def full_name(self, name):\n",
    "        first, last = name.split(\" \")\n",
    "        self.first = first\n",
    "        self.last = last\n",
    "    \n",
    "    @full_name.deleter\n",
    "    def full_name(self):\n",
    "        print(\"Delete Name: \")\n",
    "        self.first = None\n",
    "        self.last = None\n",
    "     \n",
    "emp_1 = Employee(\"tushar\", \"soam\")\n",
    "\n",
    "emp_1.full_name = \"test soam\"\n",
    "\n",
    "print(emp_1.first)\n",
    "print(emp_1.email)\n",
    "print(emp_1.full_name)\n",
    "\n",
    "del emp_1.full_name\n"
   ]
  },
  {
   "cell_type": "code",
   "execution_count": 31,
   "id": "bc988b0e",
   "metadata": {},
   "outputs": [],
   "source": [
    "class Dog:\n",
    "\n",
    "    species = \"Canis familiaris\"\n",
    "\n",
    "    def __init__(self, name, age):\n",
    "        self.name = name\n",
    "        self.age = age\n",
    "    \n",
    "    # Instance method\n",
    "    def __str__(self):\n",
    "        return f\"{self.name} is {self.age} years old\"\n",
    "\n",
    "    # Another instance method\n",
    "    def speak(self, sound):\n",
    "        return f\"{self.name} says {sound}\""
   ]
  },
  {
   "cell_type": "code",
   "execution_count": 19,
   "id": "342e1886",
   "metadata": {},
   "outputs": [
    {
     "name": "stdout",
     "output_type": "stream",
     "text": [
      "Miles 4 Buddy 9 Canis familiaris Canis familiaris\n"
     ]
    }
   ],
   "source": [
    "miles = Dog(\"Miles\", 4)\n",
    "buddy = Dog(\"Buddy\", 9)\n",
    "print(miles.name, miles.age, buddy.name, buddy.age, buddy.species, miles.species)"
   ]
  },
  {
   "cell_type": "code",
   "execution_count": 20,
   "id": "ae8ea4fb",
   "metadata": {},
   "outputs": [
    {
     "data": {
      "text/plain": [
       "10"
      ]
     },
     "execution_count": 20,
     "metadata": {},
     "output_type": "execute_result"
    }
   ],
   "source": [
    "buddy.age = 10\n",
    "buddy.age"
   ]
  },
  {
   "cell_type": "code",
   "execution_count": 21,
   "id": "06404996",
   "metadata": {},
   "outputs": [
    {
     "data": {
      "text/plain": [
       "'Felis silvestris'"
      ]
     },
     "execution_count": 21,
     "metadata": {},
     "output_type": "execute_result"
    }
   ],
   "source": [
    "miles.species = \"Felis silvestris\"\n",
    "miles.species"
   ]
  },
  {
   "cell_type": "code",
   "execution_count": 23,
   "id": "2d2f0831",
   "metadata": {},
   "outputs": [
    {
     "name": "stdout",
     "output_type": "stream",
     "text": [
      "Miles is 4 years old\n"
     ]
    }
   ],
   "source": [
    "print(miles)"
   ]
  },
  {
   "cell_type": "code",
   "execution_count": 17,
   "id": "5b66da90",
   "metadata": {},
   "outputs": [
    {
     "data": {
      "text/plain": [
       "'Miles says Woof Woof'"
      ]
     },
     "execution_count": 17,
     "metadata": {},
     "output_type": "execute_result"
    }
   ],
   "source": [
    "miles.speak(\"Woof Woof\")"
   ]
  },
  {
   "cell_type": "markdown",
   "id": "96ea43a2",
   "metadata": {},
   "source": [
    "## Inheritance"
   ]
  },
  {
   "cell_type": "code",
   "execution_count": 24,
   "id": "2728dd98",
   "metadata": {},
   "outputs": [],
   "source": [
    "class Parent:\n",
    "    hair_color = \"brown\"\n",
    "\n",
    "class Child(Parent):\n",
    "    hair_color = \"purple\""
   ]
  },
  {
   "cell_type": "code",
   "execution_count": 26,
   "id": "95b28705",
   "metadata": {},
   "outputs": [
    {
     "name": "stdout",
     "output_type": "stream",
     "text": [
      "purple brown\n"
     ]
    }
   ],
   "source": [
    "c = Child()\n",
    "p = Parent()\n",
    "print(c.hair_color, p.hair_color)"
   ]
  },
  {
   "cell_type": "code",
   "execution_count": 29,
   "id": "87f0e8da",
   "metadata": {},
   "outputs": [],
   "source": [
    "class Parent:\n",
    "    speaks = [\"English\"]\n",
    "\n",
    "class Child(Parent):\n",
    "    def __init__(self):\n",
    "        super().__init__()\n",
    "        self.speaks.append(\"German\")"
   ]
  },
  {
   "cell_type": "code",
   "execution_count": 30,
   "id": "2147063f",
   "metadata": {},
   "outputs": [
    {
     "name": "stdout",
     "output_type": "stream",
     "text": [
      "['English', 'German']\n"
     ]
    }
   ],
   "source": [
    "c = Child()\n",
    "p = Parent()\n",
    "print(c.speaks)"
   ]
  },
  {
   "cell_type": "code",
   "execution_count": 35,
   "id": "35c39698",
   "metadata": {},
   "outputs": [],
   "source": [
    "class JackRussellTerrier(Dog):\n",
    "    def speak(self, sound=\"Arf\"):\n",
    "        return super().speak(sound)"
   ]
  },
  {
   "cell_type": "code",
   "execution_count": 37,
   "id": "853502e6",
   "metadata": {},
   "outputs": [
    {
     "data": {
      "text/plain": [
       "'Miles says Arf'"
      ]
     },
     "execution_count": 37,
     "metadata": {},
     "output_type": "execute_result"
    }
   ],
   "source": [
    "miles = JackRussellTerrier(\"Miles\", 4)\n",
    "miles.speak()"
   ]
  },
  {
   "cell_type": "markdown",
   "id": "e4d89ff1",
   "metadata": {},
   "source": [
    "# Decorators"
   ]
  },
  {
   "cell_type": "code",
   "execution_count": 13,
   "id": "d17e0df2",
   "metadata": {},
   "outputs": [],
   "source": [
    "def outer_func(msg):\n",
    "    message = msg\n",
    "\n",
    "    def inner_func():\n",
    "        print(message)\n",
    "    return inner_func\n",
    "\n",
    "hi = outer_func(\"Hi\")\n",
    "hello = outer_func(\"Hello\")"
   ]
  },
  {
   "cell_type": "code",
   "execution_count": 55,
   "id": "5f476c82",
   "metadata": {},
   "outputs": [],
   "source": [
    "def decorator_function(orig_func):\n",
    "    def wrapper_func(*args, **kwargs):\n",
    "        print(f'wrapper exeuctue this before {orig_func.__name__}')\n",
    "        return orig_func(*args, **kwargs)\n",
    "    return wrapper_func\n",
    "\n",
    "\n",
    "class Decorator_class(object):\n",
    "    def __init__(self, original_function):\n",
    "        self.original_function = original_function\n",
    "    \n",
    "    def __call__(self, *args, **kwrgs):\n",
    "        print(f\"call method executed this before {self.original_function.__name__}\")\n",
    "        return self.original_function(*args, **kwrgs)\n",
    "\n",
    "\n",
    "def my_logger(orig_func):\n",
    "    import logging\n",
    "    logging.basicConfig(filename=f'{orig_func.__name__}.log', level=logging.INFO)\n",
    "\n",
    "    def wrapper(*args, **kwargs):\n",
    "        logging.info(f\"Ran with args: {args} and kwargs: {kwargs}\")\n",
    "        return orig_func(*args, **kwargs)\n",
    "    return wrapper\n",
    "\n"
   ]
  },
  {
   "cell_type": "code",
   "execution_count": 57,
   "id": "3bb53e7e",
   "metadata": {},
   "outputs": [],
   "source": [
    "@decorator_function\n",
    "def display():\n",
    "    print('display functiona ran')\n",
    "\n",
    "@decorator_function\n",
    "def display_info(name, age):\n",
    "    print(f\"display_info ran with arguemtns ({name}, {age})\")\n",
    "\n",
    "# decorated_display = decorator_function(display)\n",
    "# display()\n",
    "    \n",
    "display_info(\"John\", 25)\n",
    "display()"
   ]
  },
  {
   "cell_type": "code",
   "execution_count": 59,
   "id": "d4b6415f",
   "metadata": {},
   "outputs": [
    {
     "name": "stdout",
     "output_type": "stream",
     "text": [
      "display_info ran with arguemtns (Hank, 25)\n"
     ]
    }
   ],
   "source": [
    "@decorator_function\n",
    "def display():\n",
    "    print('display functiona ran')\n",
    "\n",
    "@my_logger\n",
    "def display_info(name, age):\n",
    "    print(f\"display_info ran with arguemtns ({name}, {age})\")\n",
    "\n",
    "# decorated_display = decorator_function(display)\n",
    "# display()\n",
    "    \n",
    "display_info(\"Hank\", 25)"
   ]
  }
 ],
 "metadata": {
  "kernelspec": {
   "display_name": "Python 3 (ipykernel)",
   "language": "python",
   "name": "python3"
  },
  "language_info": {
   "codemirror_mode": {
    "name": "ipython",
    "version": 3
   },
   "file_extension": ".py",
   "mimetype": "text/x-python",
   "name": "python",
   "nbconvert_exporter": "python",
   "pygments_lexer": "ipython3",
   "version": "3.11.0"
  }
 },
 "nbformat": 4,
 "nbformat_minor": 5
}
