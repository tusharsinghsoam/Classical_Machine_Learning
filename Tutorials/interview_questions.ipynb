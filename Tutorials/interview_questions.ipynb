{
 "cells": [
  {
   "cell_type": "markdown",
   "id": "77a2fe24-7418-4d81-bd9d-d72115506245",
   "metadata": {},
   "source": [
    "# 1. How to find the second and first highest without inbuilt python functions?"
   ]
  },
  {
   "cell_type": "code",
   "execution_count": 1,
   "id": "530df592-6458-4e6b-906d-30a5350cc3ab",
   "metadata": {},
   "outputs": [],
   "source": [
    "def second_highest(list_):\n",
    "    highest_pos = 0\n",
    "    second_pos = 0\n",
    "    n = range(list_)\n",
    "    \n",
    "    if len(list_) == 1:\n",
    "        return (0, second_pos, highest_pos)\n",
    "    \n",
    "    for current_pos in range(n-1):\n",
    "        if list_[highest_pos] > list_[current_pos+1]:\n",
    "            if current_pos == 0:\n",
    "                second_pos = current_pos+1\n",
    "            elif list_[second_pos] <= list_[current_pos+1]:  \n",
    "                second_pos = current_pos+1\n",
    "            else:\n",
    "                second_pos = second_pos\n",
    "                \n",
    "        elif list_[highest_pos] == list_[current_pos+1]:\n",
    "            highest_pos = current_pos+1\n",
    "            \n",
    "        else:\n",
    "            second_pos = highest_pos\n",
    "            highest_pos = current_pos+1\n",
    "              \n",
    "        current_pos += 1 \n",
    "        \n",
    "    return (current_pos, second_pos, highest_pos)"
   ]
  },
  {
   "cell_type": "code",
   "execution_count": 2,
   "id": "aa988f50-3318-43bb-804a-ac6e216f08c7",
   "metadata": {},
   "outputs": [],
   "source": [
    "# in_list = [4, 5, 7, 8, 9, 10, 2, 3, 1, 11, 1, 2, 3, 15]\n",
    "# in_list = [10, 2, 3, 4, 9]\n",
    "# in_list = [-1, -1, 0 , 10 , 9, 8 , 3, 5, 4, 10 , 10, 10, 9 , 9, 9]\n",
    "in_list = [-4, -4, 10, 10, -5, -5, 0, 0, 1, 2, 3, 4, 10, 10, 11, 11, 11, 10]\n",
    "(current_pos, second_pos, highest_pos) = second_highest(in_list)"
   ]
  },
  {
   "cell_type": "code",
   "execution_count": 3,
   "id": "2daf1cbf-ce8e-4d3b-8b4e-815028979709",
   "metadata": {},
   "outputs": [
    {
     "name": "stdout",
     "output_type": "stream",
     "text": [
      "Second number and pos:  10 and 17\n",
      "Highest number and pos:  11 and 16\n",
      "Current number and pos:  10 and 17\n"
     ]
    }
   ],
   "source": [
    "print(\"Second number and pos: \", in_list[second_pos], \"and\", second_pos)\n",
    "print(\"Highest number and pos: \", in_list[highest_pos], \"and\", highest_pos)\n",
    "print(\"Current number and pos: \", in_list[current_pos], \"and\", current_pos)"
   ]
  },
  {
   "cell_type": "markdown",
   "id": "076cee79-12c4-4d53-88b4-61092dc35091",
   "metadata": {},
   "source": [
    "## Alternative method of Q1"
   ]
  },
  {
   "cell_type": "code",
   "execution_count": 4,
   "id": "cd125772-8f74-4a8d-9de3-431d9aa03aaa",
   "metadata": {},
   "outputs": [
    {
     "name": "stdout",
     "output_type": "stream",
     "text": [
      "9 10\n"
     ]
    }
   ],
   "source": [
    "in_list = [-1, -1, 0, 0, 1, 2, 3, 4, 9, 9, 10, 9, 9, 9, 5]\n",
    "n = len(in_list)\n",
    "# instantiate the goals\n",
    "max_num = in_list[0]\n",
    "second_max = in_list[0]\n",
    "\n",
    "# 1. find the maximum number\n",
    "for i in range(n):\n",
    "    if in_list[i] >= max_num:\n",
    "        max_num = in_list[i]\n",
    "\n",
    "# 2. find the second highest number\n",
    "for i in range(n):\n",
    "    if in_list[i] == max_num:\n",
    "        continue\n",
    "    else:\n",
    "        if (second_max < max_num) and (second_max < in_list[i]):\n",
    "            second_max = in_list[i]\n",
    "            \n",
    "print(second_max, max_num)"
   ]
  },
  {
   "cell_type": "markdown",
   "id": "c966ba76-ac0e-49bf-add5-c3ecffe5150c",
   "metadata": {},
   "source": [
    "# 2. Sorting Algos"
   ]
  },
  {
   "cell_type": "markdown",
   "id": "c7ba5f1d-c25e-4d0d-804d-df822f839069",
   "metadata": {},
   "source": [
    "## A. Bubble Sort"
   ]
  },
  {
   "cell_type": "code",
   "execution_count": 5,
   "id": "f94c9b48-5e0c-4e2a-91d9-6606782deadc",
   "metadata": {},
   "outputs": [
    {
     "data": {
      "text/plain": [
       "[1, 2, 3, 4, 5, 7, 8, 9, 10]"
      ]
     },
     "execution_count": 5,
     "metadata": {},
     "output_type": "execute_result"
    }
   ],
   "source": [
    "def bubble_sort(array):\n",
    "    n = len(array)\n",
    "\n",
    "    for i in range(n):\n",
    "        # Create a flag that will allow the function to\n",
    "        # terminate early if there's nothing left to sort\n",
    "        already_sorted = True\n",
    "\n",
    "        # Start looking at each item of the list one by one,\n",
    "        # comparing it with its adjacent value. With each\n",
    "        # iteration, the portion of the array that you look at\n",
    "        # shrinks because the remaining items have already been\n",
    "        # sorted.\n",
    "        for j in range(n - i - 1):\n",
    "            if array[j] > array[j + 1]:\n",
    "                # If the item you're looking at is greater than its\n",
    "                # adjacent value, then swap them\n",
    "                array[j], array[j + 1] = array[j + 1], array[j]\n",
    "\n",
    "                # Since you had to swap two elements,\n",
    "                # set the `already_sorted` flag to `False` so the\n",
    "                # algorithm doesn't finish prematurely\n",
    "                already_sorted = False\n",
    "            # print(i, array)\n",
    "\n",
    "        # If there were no swaps during the last iteration,\n",
    "        # the array is already sorted, and you can terminate\n",
    "        if already_sorted:\n",
    "            break\n",
    "\n",
    "    return array\n",
    "\n",
    "lst = [5, 4, 1, 2, 10, 9, 7, 3, 8]\n",
    "bubble_sort(lst)"
   ]
  },
  {
   "cell_type": "markdown",
   "id": "b1638ae1-32c6-49c9-8540-f0b703f4a5f3",
   "metadata": {},
   "source": [
    "## B. Insertion sort"
   ]
  },
  {
   "cell_type": "code",
   "execution_count": 232,
   "id": "484ddfde-465a-4281-a995-e54d8e575377",
   "metadata": {},
   "outputs": [
    {
     "data": {
      "text/plain": [
       "[1, 2, 3, 4, 5, 7, 8, 9, 10]"
      ]
     },
     "execution_count": 232,
     "metadata": {},
     "output_type": "execute_result"
    }
   ],
   "source": [
    "def insertion_sort(array):\n",
    "    # Loop from the second element of the array until\n",
    "    # the last element\n",
    "    for i in range(1, len(array)):\n",
    "        # This is the element we want to position in its\n",
    "        # correct place\n",
    "        key_item = array[i]\n",
    "\n",
    "        # Initialize the variable that will be used to\n",
    "        # find the correct position of the element referenced\n",
    "        # by `key_item`\n",
    "        j = i - 1\n",
    "\n",
    "        # Run through the list of items (the left\n",
    "        # portion of the array) and find the correct position\n",
    "        # of the element referenced by `key_item`. Do this only\n",
    "        # if `key_item` is smaller than its adjacent values.\n",
    "        while j >= 0 and array[j] > key_item:\n",
    "            # Shift the value one position to the left\n",
    "            # and reposition j to point to the next element\n",
    "            # (from right to left)\n",
    "            array[j + 1] = array[j]\n",
    "            j -= 1\n",
    "\n",
    "        # When you finish shifting the elements, you can position\n",
    "        # `key_item` in its correct location\n",
    "        array[j + 1] = key_item\n",
    "\n",
    "    return array\n",
    "lst = [5, 4, 1, 2, 10, 9, 7, 3, 8]\n",
    "insertion_sort(lst)"
   ]
  },
  {
   "cell_type": "markdown",
   "id": "f7a2eda2-bff7-4df9-830b-dd76e5f44423",
   "metadata": {},
   "source": [
    "## C. Selection Sort"
   ]
  },
  {
   "cell_type": "code",
   "execution_count": 103,
   "id": "e5bd6738-b4a1-4456-a027-1d7207ab84ee",
   "metadata": {},
   "outputs": [
    {
     "data": {
      "text/plain": [
       "[1, 2, 3, 4, 5, 7, 8, 9, 10]"
      ]
     },
     "execution_count": 103,
     "metadata": {},
     "output_type": "execute_result"
    }
   ],
   "source": [
    "# Selection Sort algorithm in Python\n",
    "def selectionSort(array):\n",
    "    size = len(array)\n",
    "    \n",
    "    for i in range(size):\n",
    "        min_idx = i\n",
    "         \n",
    "        for j in range(i+1, size):\n",
    "            # For sorting in descending order\n",
    "            # for minimum element in each loop\n",
    "            if array[j] < array[min_idx]:\n",
    "                min_idx = j\n",
    " \n",
    "        # Arranging min at the correct position\n",
    "        (array[i], array[min_idx]) = (array[min_idx], array[i])\n",
    "        \n",
    "    return array\n",
    "lst = [5, 4, 1, 2, 10, 9, 7, 3, 8]\n",
    "selectionSort(lst)"
   ]
  },
  {
   "cell_type": "code",
   "execution_count": 245,
   "id": "67aacd45-1895-4e7d-a790-d5f384391f2b",
   "metadata": {},
   "outputs": [
    {
     "data": {
      "text/plain": [
       "[1, 2, 3, 4, 5, 6, 7, 8, 9, 10]"
      ]
     },
     "execution_count": 245,
     "metadata": {},
     "output_type": "execute_result"
    }
   ],
   "source": [
    "# bubble sort\n",
    "def b_sort(lst):\n",
    "    n = len(lst)\n",
    "    \n",
    "    for i in range(n-1):\n",
    "        for j in range(n-i-1):\n",
    "            if lst[j] > lst[j+1]:\n",
    "                lst[j], lst[j+1] = lst[j+1], lst[j]\n",
    "    return lst\n",
    "lst = [5, 4, 1, 2, 10, 9, 7, 3, 8, 6]\n",
    "b_sort(lst)      "
   ]
  },
  {
   "cell_type": "code",
   "execution_count": 246,
   "id": "c8127b73-03fa-460c-85b0-73b59359e909",
   "metadata": {},
   "outputs": [
    {
     "data": {
      "text/plain": [
       "[1, 2, 3, 4, 5, 6, 7, 8, 9, 10]"
      ]
     },
     "execution_count": 246,
     "metadata": {},
     "output_type": "execute_result"
    }
   ],
   "source": [
    "# selection sort\n",
    "def s_sort(lst):\n",
    "    n = len(lst)\n",
    "    \n",
    "    for i in range(n):\n",
    "        min_ix = i\n",
    "        for j in range(i+1, n):\n",
    "            if lst[j] < lst[min_ix]:\n",
    "                min_ix = j\n",
    "        lst[i], lst[min_ix] = lst[min_ix], lst[i]\n",
    "    return lst\n",
    "\n",
    "lst = [5, 4, 1, 2, 10, 9, 7, 3, 8, 6]\n",
    "b_sort(lst) "
   ]
  },
  {
   "cell_type": "code",
   "execution_count": 247,
   "id": "884aae9c-0dcc-4348-a767-9ef0fc31695f",
   "metadata": {},
   "outputs": [
    {
     "data": {
      "text/plain": [
       "[1, 2, 3, 4, 5, 6, 7, 8, 9, 10]"
      ]
     },
     "execution_count": 247,
     "metadata": {},
     "output_type": "execute_result"
    }
   ],
   "source": [
    "# inserion sort\n",
    "def i_sort(lst):\n",
    "    n = len(lst)\n",
    "    \n",
    "    for i in range(1, n):\n",
    "        key_item = lst[i]\n",
    "        j = i-1\n",
    "        \n",
    "        while (j>=0) and (lst[j] > key_item):\n",
    "            lst[j+1] = lst[j]\n",
    "            j = j-1\n",
    "            \n",
    "        lst[j+1] = key_item\n",
    "\n",
    "lst = [5, 4, 1, 2, 10, 9, 7, 3, 8, 6]\n",
    "b_sort(lst) "
   ]
  },
  {
   "cell_type": "markdown",
   "id": "7570b980-cd27-41a3-b484-2b194980e04d",
   "metadata": {},
   "source": [
    "# 3. Find the best buy and sell combinations given an array of price of stocks where timestamp is supposed to increase with index"
   ]
  },
  {
   "cell_type": "code",
   "execution_count": null,
   "id": "1da5a1d2",
   "metadata": {},
   "outputs": [],
   "source": [
    "# for the given array answer should be 6-1 = 5\n",
    "arr = [7, 1, 5, 3, 6, 4]\n",
    "\n",
    "# for the given array answer should be 15-7 = 8\n",
    "arr = [7, 8, 15, 5, 1, 3]\n"
   ]
  },
  {
   "cell_type": "markdown",
   "id": "03401def",
   "metadata": {},
   "source": [
    "## A. Easy way"
   ]
  },
  {
   "cell_type": "code",
   "execution_count": 7,
   "id": "7eb87556",
   "metadata": {},
   "outputs": [],
   "source": [
    "def buy_sell(arr):\n",
    "    n = len(arr)\n",
    "    max_diff = arr[1]-arr[0]\n",
    "    for i in range(n):\n",
    "        for j in range(i+1, n):\n",
    "            diff = arr[j]-arr[i]\n",
    "            if diff > max_diff:\n",
    "                max_diff = diff\n",
    "    return max_diff"
   ]
  },
  {
   "cell_type": "code",
   "execution_count": 8,
   "id": "838650e6",
   "metadata": {},
   "outputs": [
    {
     "data": {
      "text/plain": [
       "5"
      ]
     },
     "execution_count": 8,
     "metadata": {},
     "output_type": "execute_result"
    }
   ],
   "source": [
    "arr = [7, 1, 5, 3, 6, 4]\n",
    "buy_sell(arr)"
   ]
  },
  {
   "cell_type": "code",
   "execution_count": 9,
   "id": "ccc66de1",
   "metadata": {},
   "outputs": [
    {
     "data": {
      "text/plain": [
       "8"
      ]
     },
     "execution_count": 9,
     "metadata": {},
     "output_type": "execute_result"
    }
   ],
   "source": [
    "arr = [7, 8, 15, 5, 1, 3]\n",
    "buy_sell(arr)"
   ]
  },
  {
   "cell_type": "markdown",
   "id": "3197bd12",
   "metadata": {},
   "source": [
    "### B. Optimized way"
   ]
  },
  {
   "cell_type": "code",
   "execution_count": 99,
   "id": "310549f5",
   "metadata": {},
   "outputs": [],
   "source": [
    "def buy_sell(arr):\n",
    "    # instantiate few initial values\n",
    "    n = len(arr)\n",
    "    buy = arr[0]\n",
    "    sell = arr[1]\n",
    "    max_profit = sell-buy\n",
    "\n",
    "    # iterate from 1st element\n",
    "    for i in range(1, n):\n",
    "        sell = arr[i]\n",
    "        profit = sell-buy\n",
    "        print(f\"At {i}st iteration sell is {sell} and buy is {buy})\")\n",
    "\n",
    "        # update max_profit\n",
    "        if (profit >= max_profit):\n",
    "            print('profit occured')\n",
    "            max_profit = profit\n",
    "            # keep track of that best profit sell value\n",
    "            s = arr[i]\n",
    "\n",
    "            # update buy value if current value is less than the previous buy value\n",
    "            if (arr[i] < buy):\n",
    "                print(f'buy got updated to {arr[i]}')\n",
    "                buy = arr[i]\n",
    "                max_profit = profit\n",
    "    \n",
    "    return max_profit, buy, s"
   ]
  },
  {
   "cell_type": "code",
   "execution_count": 100,
   "id": "5972fbb9",
   "metadata": {},
   "outputs": [
    {
     "name": "stdout",
     "output_type": "stream",
     "text": [
      "At 1st iteration sell is 8 and buy is 7)\n",
      "profit occured\n",
      "At 2st iteration sell is 15 and buy is 7)\n",
      "profit occured\n",
      "At 3st iteration sell is 5 and buy is 7)\n",
      "At 4st iteration sell is 1 and buy is 7)\n",
      "At 5st iteration sell is 3 and buy is 7)\n"
     ]
    },
    {
     "data": {
      "text/plain": [
       "(8, 7, 15)"
      ]
     },
     "execution_count": 100,
     "metadata": {},
     "output_type": "execute_result"
    }
   ],
   "source": [
    "arr = [7, 8, 15, 5, 1, 3]\n",
    "buy_sell(arr)"
   ]
  },
  {
   "cell_type": "code",
   "execution_count": 101,
   "id": "b84b7945",
   "metadata": {},
   "outputs": [
    {
     "name": "stdout",
     "output_type": "stream",
     "text": [
      "At 1st iteration sell is 1 and buy is 7)\n",
      "profit occured\n",
      "buy got updated to 1\n",
      "At 2st iteration sell is 5 and buy is 1)\n",
      "profit occured\n",
      "At 3st iteration sell is 3 and buy is 1)\n",
      "At 4st iteration sell is 6 and buy is 1)\n",
      "profit occured\n",
      "At 5st iteration sell is 4 and buy is 1)\n"
     ]
    },
    {
     "data": {
      "text/plain": [
       "(5, 1, 6)"
      ]
     },
     "execution_count": 101,
     "metadata": {},
     "output_type": "execute_result"
    }
   ],
   "source": [
    "arr = [7, 1, 5, 3, 6, 4]\n",
    "buy_sell(arr)"
   ]
  },
  {
   "cell_type": "markdown",
   "id": "8ec4d1d2",
   "metadata": {},
   "source": [
    "# 4. Question asked in Phenom first round (don't remember the exact question now but the below solution is the correct solution.)"
   ]
  },
  {
   "cell_type": "code",
   "execution_count": 141,
   "id": "f91ba2fe",
   "metadata": {},
   "outputs": [
    {
     "name": "stdout",
     "output_type": "stream",
     "text": [
      "4\n",
      "7\n",
      "9\n"
     ]
    }
   ],
   "source": [
    "in_str = 'tushtarsoam'\n",
    "n = len(in_str)\n",
    "\n",
    "d = []\n",
    "out = []\n",
    "\n",
    "for i in range(n):\n",
    "    if in_str[i] not in d:\n",
    "        d.append(in_str[i])\n",
    "        out.append(d[0])\n",
    "    else:\n",
    "        d.remove(in_str[i])\n",
    "        if len(d) != 0:\n",
    "            out.append(d[0])\n",
    "        else:\n",
    "            out.append('#')\n"
   ]
  },
  {
   "cell_type": "markdown",
   "id": "ea8de8c6",
   "metadata": {},
   "source": [
    "# 5. Expected number of trials to get two heads consecutively in tossing of a single coin."
   ]
  },
  {
   "cell_type": "markdown",
   "id": "0ee88989",
   "metadata": {},
   "source": [
    "HH, THH, TTHH"
   ]
  }
 ],
 "metadata": {
  "kernelspec": {
   "display_name": "Python 3 (ipykernel)",
   "language": "python",
   "name": "python3"
  },
  "language_info": {
   "codemirror_mode": {
    "name": "ipython",
    "version": 3
   },
   "file_extension": ".py",
   "mimetype": "text/x-python",
   "name": "python",
   "nbconvert_exporter": "python",
   "pygments_lexer": "ipython3",
   "version": "3.11.0"
  }
 },
 "nbformat": 4,
 "nbformat_minor": 5
}
